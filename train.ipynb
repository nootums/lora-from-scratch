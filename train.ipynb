{
 "cells": [
  {
   "cell_type": "code",
   "execution_count": 1,
   "metadata": {},
   "outputs": [],
   "source": [
    "from transformers import AutoModelForCausalLM, AutoTokenizer\n",
    "from LoraHelpers import convert_model_to_lora_model, change_lora_alpha\n",
    "from data_loader import load_dataset_from_list, load_json_data\n",
    "from tqdm.notebook import tqdm\n",
    "import torch\n",
    "from torch.nn import CrossEntropyLoss\n",
    "from torch.optim import AdamW\n",
    "\n",
    "model_path = \"./llama-3.2-1b-inst\""
   ]
  },
  {
   "cell_type": "code",
   "execution_count": 2,
   "metadata": {},
   "outputs": [],
   "source": [
    "tokenizer = AutoTokenizer.from_pretrained(model_path)\n",
    "model = AutoModelForCausalLM.from_pretrained(model_path)\n",
    "convert_model_to_lora_model(model)\n",
    "change_lora_alpha(model, 0.125)"
   ]
  },
  {
   "cell_type": "code",
   "execution_count": 3,
   "metadata": {},
   "outputs": [],
   "source": [
    "Crterion = CrossEntropyLoss(reduction=\"mean\")\n",
    "optimizer = AdamW(model.parameters(), lr=1e-4)"
   ]
  },
  {
   "cell_type": "code",
   "execution_count": 4,
   "metadata": {},
   "outputs": [],
   "source": [
    "data_samples = load_json_data()\n",
    "data = load_dataset_from_list(data_samples)"
   ]
  },
  {
   "cell_type": "code",
   "execution_count": 5,
   "metadata": {},
   "outputs": [
    {
     "name": "stderr",
     "output_type": "stream",
     "text": [
      "Starting from v4.46, the `logits` model output will have the same type as the model (except at train time, where it will always be FP32)\n"
     ]
    }
   ],
   "source": [
    "a = model.forward(torch.tensor(data[0][\"input_tokens\"]).unsqueeze(0)).logits\n",
    "# a = torch.softmax(a, dim=-1)\n",
    "a = a.softmax(dim=-1)"
   ]
  },
  {
   "cell_type": "code",
   "execution_count": 6,
   "metadata": {},
   "outputs": [
    {
     "data": {
      "text/plain": [
       "(torch.Size([1, 49, 128256]), torch.Size([1, 49]), 10)"
      ]
     },
     "execution_count": 6,
     "metadata": {},
     "output_type": "execute_result"
    }
   ],
   "source": [
    "a.shape, torch.tensor(data[0][\"output_tokens\"]).unsqueeze(0).shape, data[0][\"sep_token_index\"]"
   ]
  },
  {
   "cell_type": "code",
   "execution_count": 7,
   "metadata": {},
   "outputs": [
    {
     "data": {
      "text/plain": [
       "tensor([  3513,   6261,     26,   5127,    775,    374,   2736,   4529,     13,\n",
       "           765,   9681,     25,   2570,   1395,  53246,    726,    518,    364,\n",
       "         61887,   9339,  17453,  78342,    518,    364,     71,  36224,     88,\n",
       "           518,    364,   1354,   5682,   1697,    518,    364,  34965,  45213,\n",
       "          2844,  83528,   7063,   2695,  35376,    518,    364,   3022,   3502,\n",
       "          7164,  58182,    663, 128009])"
      ]
     },
     "execution_count": 7,
     "metadata": {},
     "output_type": "execute_result"
    }
   ],
   "source": [
    "torch.tensor(data[0][\"output_tokens\"])"
   ]
  },
  {
   "cell_type": "code",
   "execution_count": 8,
   "metadata": {},
   "outputs": [
    {
     "data": {
      "text/plain": [
       "tensor(11.3790, grad_fn=<NllLossBackward0>)"
      ]
     },
     "execution_count": 8,
     "metadata": {},
     "output_type": "execute_result"
    }
   ],
   "source": [
    "Crterion(a.squeeze()[10:], torch.tensor(data[0][\"output_tokens\"][10:]))"
   ]
  },
  {
   "cell_type": "code",
   "execution_count": 9,
   "metadata": {},
   "outputs": [
    {
     "data": {
      "text/plain": [
       "\"#ach, be else is already taken.\\n - Unknown: selfself yourselfself','selfgames okins','selfappinessy', 'authpirationational','motunderuted',car-wil','self',spiror']\\n\\n |\\n\""
      ]
     },
     "execution_count": 9,
     "metadata": {},
     "output_type": "execute_result"
    }
   ],
   "source": [
    "tokenizer.decode(a.argmax(dim=-1)[0])"
   ]
  },
  {
   "cell_type": "code",
   "execution_count": null,
   "metadata": {},
   "outputs": [],
   "source": [
    "train_losses = []"
   ]
  },
  {
   "cell_type": "code",
   "execution_count": null,
   "metadata": {},
   "outputs": [],
   "source": [
    "epochs = 5\n",
    "for epoch in tqdm(range(epochs)):\n",
    "    pbar = tqdm(range(len(data)), leave=False)\n",
    "    for i in pbar:\n",
    "        optimizer.zero_grad()\n",
    "        mask_idx = data[i][\"sep_token_index\"]\n",
    "        outs = model.forward(torch.tensor(data[i]['input_tokens']).unsqueeze(0)).logits.softmax(dim=-1)\n",
    "        sample_loss = Crterion(outs.squeeze()[mask_idx:], torch.tensor(data[i][\"output_tokens\"][mask_idx:]))\n",
    "        train_losses.append(sample_loss.detach())\n",
    "        sample_loss.backward()\n",
    "        optimizer.step()\n",
    "        del outs\n",
    "        del sample_loss\n",
    "        pbar.set_description(\"\" if len(train_losses)==0 else f\"loss : {train_losses[-1]:.3f}\")\n",
    "    change_lora_alpha(model, 0.125*2**epoch)"
   ]
  },
  {
   "cell_type": "code",
   "execution_count": 42,
   "metadata": {},
   "outputs": [],
   "source": [
    "train_losses_bkp = [float(item) for item in train_losses]\n",
    "#train_losses_bkp"
   ]
  },
  {
   "cell_type": "code",
   "execution_count": 43,
   "metadata": {},
   "outputs": [
    {
     "data": {
      "image/png": "[encoded data removed]",
      "text/plain": [
       "<Figure size 640x480 with 1 Axes>"
      ]
     },
     "metadata": {},
     "output_type": "display_data"
    }
   ],
   "source": [
    "import matplotlib.pyplot as plt\n",
    "plt.plot(train_losses_bkp)\n",
    "plt.show()"
   ]
  },
  {
   "cell_type": "code",
   "execution_count": 54,
   "metadata": {},
   "outputs": [],
   "source": [
    "change_lora_alpha(model, 0.5)"
   ]
  },
  {
   "cell_type": "code",
   "execution_count": 56,
   "metadata": {},
   "outputs": [
    {
     "name": "stderr",
     "output_type": "stream",
     "text": [
      "The attention mask and the pad token id were not set. As a consequence, you may observe unexpected behavior. Please pass your input's `attention_mask` to obtain reliable results.\n",
      "Setting `pad_token_id` to `eos_token_id`:None for open-end generation.\n"
     ]
    },
    {
     "name": "stdout",
     "output_type": "stream",
     "text": [
      "<|begin_of_text|>Mischief managed | tags: mischief']<|eot_id|>\n"
     ]
    }
   ],
   "source": [
    "s = tokenizer(\"Mischief managed | tags:\", return_tensors='pt')['input_ids']\n",
    "a = model.generate(s, max_new_tokens=200)\n",
    "print(\"\".join([tokenizer.decode(token) for token in a[0]]))"
   ]
  },
  {
   "cell_type": "code",
   "execution_count": 57,
   "metadata": {},
   "outputs": [
    {
     "name": "stderr",
     "output_type": "stream",
     "text": [
      "The attention mask and the pad token id were not set. As a consequence, you may observe unexpected behavior. Please pass your input's `attention_mask` to obtain reliable results.\n",
      "Setting `pad_token_id` to `eos_token_id`:None for open-end generation.\n"
     ]
    },
    {
     "name": "stdout",
     "output_type": "stream",
     "text": [
      "<|begin_of_text|>Don't cry because its over, smile because it happened | tags:', 'humor', 'smile']<|eot_id|>\n"
     ]
    }
   ],
   "source": [
    "s = tokenizer(\"Don't cry because its over, smile because it happened | tags:\", return_tensors='pt')['input_ids']\n",
    "a = model.generate(s, max_new_tokens=200)\n",
    "print(\"\".join([tokenizer.decode(token) for token in a[0]]))"
   ]
  },
  {
   "cell_type": "code",
   "execution_count": 65,
   "metadata": {},
   "outputs": [
    {
     "name": "stderr",
     "output_type": "stream",
     "text": [
      "The attention mask and the pad token id were not set. As a consequence, you may observe unexpected behavior. Please pass your input's `attention_mask` to obtain reliable results.\n",
      "Setting `pad_token_id` to `eos_token_id`:None for open-end generation.\n"
     ]
    },
    {
     "name": "stdout",
     "output_type": "stream",
     "text": [
      "<|begin_of_text|>row, row, row, your boat. | tags::humor', 'rows', 'row', 'rows', 'rows', 'rows', '\n"
     ]
    }
   ],
   "source": [
    "s = tokenizer(\"row, row, row, your boat. | tags:\", return_tensors='pt')['input_ids']\n",
    "a = model.generate(s, max_new_tokens=20)\n",
    "print(\"\".join([tokenizer.decode(token) for token in a[0]]))"
   ]
  },
  {
   "cell_type": "code",
   "execution_count": 66,
   "metadata": {},
   "outputs": [],
   "source": [
    "change_lora_alpha(model, 0.)"
   ]
  },
  {
   "cell_type": "code",
   "execution_count": 67,
   "metadata": {},
   "outputs": [
    {
     "name": "stderr",
     "output_type": "stream",
     "text": [
      "The attention mask and the pad token id were not set. As a consequence, you may observe unexpected behavior. Please pass your input's `attention_mask` to obtain reliable results.\n",
      "Setting `pad_token_id` to `eos_token_id`:None for open-end generation.\n"
     ]
    },
    {
     "name": "stdout",
     "output_type": "stream",
     "text": [
      "<|begin_of_text|>Mischief managed | tags: fiction, fantasy, character development, relationships\n",
      "\n",
      "It's been a while since I've had a chance\n"
     ]
    }
   ],
   "source": [
    "s = tokenizer(\"Mischief managed | tags:\", return_tensors='pt')['input_ids']\n",
    "a = model.generate(s, max_new_tokens=20)\n",
    "print(\"\".join([tokenizer.decode(token) for token in a[0]]))"
   ]
  },
  {
   "cell_type": "code",
   "execution_count": 71,
   "metadata": {},
   "outputs": [
    {
     "name": "stderr",
     "output_type": "stream",
     "text": [
      "The attention mask and the pad token id were not set. As a consequence, you may observe unexpected behavior. Please pass your input's `attention_mask` to obtain reliable results.\n",
      "Setting `pad_token_id` to `eos_token_id`:None for open-end generation.\n"
     ]
    },
    {
     "name": "stdout",
     "output_type": "stream",
     "text": [
      "<|begin_of_text|>Don't cry because its over, smile because it happened | tags: #relaxation, #selfcare, #mentalhealthmatters, #mindfulness, #\n"
     ]
    }
   ],
   "source": [
    "s = tokenizer(\"Don't cry because its over, smile because it happened | tags:\", return_tensors='pt')['input_ids']\n",
    "a = model.generate(s, max_new_tokens=20)\n",
    "print(\"\".join([tokenizer.decode(token) for token in a[0]]))"
   ]
  },
  {
   "cell_type": "code",
   "execution_count": 69,
   "metadata": {},
   "outputs": [
    {
     "name": "stderr",
     "output_type": "stream",
     "text": [
      "The attention mask and the pad token id were not set. As a consequence, you may observe unexpected behavior. Please pass your input's `attention_mask` to obtain reliable results.\n",
      "Setting `pad_token_id` to `eos_token_id`:None for open-end generation.\n"
     ]
    },
    {
     "name": "stdout",
     "output_type": "stream",
     "text": [
      "<|begin_of_text|>row row row your boat | tags: poetry, boat, rowing, rowing poem\n",
      "\n",
      "The classic nursery rhyme \"Row, Row,\n"
     ]
    }
   ],
   "source": [
    "s = tokenizer(\"row row row your boat | tags:\", return_tensors='pt')['input_ids']\n",
    "a = model.generate(s, max_new_tokens=20)\n",
    "print(\"\".join([tokenizer.decode(token) for token in a[0]]))"
   ]
  },
  {
   "cell_type": "code",
   "execution_count": 81,
   "metadata": {},
   "outputs": [],
   "source": [
    "import pickle\n",
    "with open(\"lora_model.pkl\", 'wb') as f:\n",
    "    pickle.dump(model, f)"
   ]
  },
  {
   "cell_type": "code",
   "execution_count": 82,
   "metadata": {},
   "outputs": [],
   "source": [
    "with open(\"lora_model.pkl\", 'rb') as f:\n",
    "    tmp_model = pickle.load(f)"
   ]
  },
  {
   "cell_type": "code",
   "execution_count": 84,
   "metadata": {},
   "outputs": [],
   "source": [
    "change_lora_alpha(tmp_model, 0.5)"
   ]
  },
  {
   "cell_type": "code",
   "execution_count": 100,
   "metadata": {},
   "outputs": [
    {
     "name": "stderr",
     "output_type": "stream",
     "text": [
      "The attention mask and the pad token id were not set. As a consequence, you may observe unexpected behavior. Please pass your input's `attention_mask` to obtain reliable results.\n",
      "Setting `pad_token_id` to `eos_token_id`:None for open-end generation.\n"
     ]
    },
    {
     "name": "stdout",
     "output_type": "stream",
     "text": [
      "<|begin_of_text|>Thank God it's Friday | tags: friday', 'god', 'humor', 'weekends']<|eot_id|>\n"
     ]
    }
   ],
   "source": [
    "s = tokenizer(\"Thank God it's Friday | tags:\", return_tensors='pt')['input_ids']\n",
    "a = tmp_model.generate(s, max_new_tokens=20)\n",
    "print(\"\".join([tokenizer.decode(token) for token in a[0]]))"
   ]
  },
  {
   "cell_type": "code",
   "execution_count": 101,
   "metadata": {},
   "outputs": [],
   "source": [
    "del tmp_model"
   ]
  },
  {
   "cell_type": "code",
   "execution_count": null,
   "metadata": {},
   "outputs": [],
   "source": []
  }
 ],
 "metadata": {
  "kernelspec": {
   "display_name": "llm",
   "language": "python",
   "name": "python3"
  },
  "language_info": {
   "codemirror_mode": {
    "name": "ipython",
    "version": 3
   },
   "file_extension": ".py",
   "mimetype": "text/x-python",
   "name": "python",
   "nbconvert_exporter": "python",
   "pygments_lexer": "ipython3",
   "version": "3.12.3"
  },
  "orig_nbformat": 4
 },
 "nbformat": 4,
 "nbformat_minor": 2
}
